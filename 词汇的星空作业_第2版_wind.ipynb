{
 "cells": [
  {
   "cell_type": "markdown",
   "metadata": {},
   "source": [
    "# 基于词向量的英汉翻译——“火炬上的深度学习\"下第一次作业\n",
    "\n",
    "在这个作业中，你需要半独立地完成一个英文到中文的单词翻译器\n",
    "\n",
    "本文件是集智AI学园http://campus.swarma.org 出品的“火炬上的深度学习”第VI课的配套源代码"
   ]
  },
  {
   "cell_type": "code",
   "execution_count": 1,
   "metadata": {
    "collapsed": true
   },
   "outputs": [],
   "source": [
    "# 加载必要的程序包\n",
    "# PyTorch的程序包\n",
    "import torch\n",
    "from torch.autograd import Variable\n",
    "import torch.nn as nn\n",
    "import torch.nn.functional as F\n",
    "import torch.optim as optim\n",
    "\n",
    "# 数值运算和绘图的程序包\n",
    "import numpy as np\n",
    "import matplotlib.pyplot as plt\n",
    "import matplotlib\n",
    "\n",
    "\n",
    "# 加载机器学习的软件包，主要为了词向量的二维可视化\n",
    "from sklearn.decomposition import PCA\n",
    "\n",
    "#加载Word2Vec的软件包\n",
    "import gensim as gensim\n",
    "from gensim.models import Word2Vec\n",
    "from gensim.models.keyedvectors import KeyedVectors\n",
    "from gensim.models.word2vec import LineSentence\n",
    "\n",
    "#加载正则表达式处理的包\n",
    "import re\n",
    "\n",
    "#在Notebook界面能够直接显示图形\n",
    "%matplotlib inline"
   ]
  },
  {
   "cell_type": "markdown",
   "metadata": {},
   "source": [
    "## 第一步：加载词向量\n",
    "\n",
    "首先，让我们加载别人已经在大型语料库上训练好的词向量"
   ]
  },
  {
   "cell_type": "code",
   "execution_count": 2,
   "metadata": {},
   "outputs": [
    {
     "data": {
      "text/plain": [
       "1366130"
      ]
     },
     "execution_count": 2,
     "metadata": {},
     "output_type": "execute_result"
    }
   ],
   "source": [
    "# 加载中文词向量，下载地址为：链接：http://pan.baidu.com/s/1gePQAun 密码：kvtg\n",
    "# 该中文词向量库是由尹相志提供，训练语料来源为：微博、人民日报、上海热线、汽车之家等，包含1366130个词向量\n",
    "word_vectors = KeyedVectors.load_word2vec_format('vectors.bin', binary=True, unicode_errors='ignore')\n",
    "len(word_vectors.vocab)"
   ]
  },
  {
   "cell_type": "code",
   "execution_count": 3,
   "metadata": {},
   "outputs": [
    {
     "name": "stdout",
     "output_type": "stream",
     "text": [
      "400000\n"
     ]
    }
   ],
   "source": [
    "# 加载英文的词向量，下载地址为：http://nlp.stanford.edu/data/glove.6B.zip，解压后将glove.6B.100d.txt文件拷贝到与本notebook\n",
    "# 文件一致的文件夹下面。\n",
    "f = open('glove.6B.100d.txt', 'r')\n",
    "i = 1\n",
    "\n",
    "# 将英文的词向量都存入如下的字典中  该字典以每个word作为key，相应的词向量作为value，共40w个词\n",
    "word_vectors_en = {}\n",
    "with open('glove.6B.100d.txt') as f:\n",
    "    for line in f:\n",
    "        numbers = line.split()\n",
    "        word = numbers[0]\n",
    "        vectors = np.array([float(i) for i in numbers[1 : ]])\n",
    "        word_vectors_en[word] = vectors\n",
    "#        i += 1        #没有用到变量i\n",
    "print(len(word_vectors_en))"
   ]
  },
  {
   "cell_type": "markdown",
   "metadata": {},
   "source": [
    "## 第二步：可视化同一组意思词在两种不同语言的词向量中的相互位置关系"
   ]
  },
  {
   "cell_type": "code",
   "execution_count": 6,
   "metadata": {},
   "outputs": [
    {
     "name": "stdout",
     "output_type": "stream",
     "text": [
      "2000 1000\n"
     ]
    }
   ],
   "source": [
    "# 中文的一二三四五列表\n",
    "cn_list = {'一', '二', '三', '四', '五', '六', '七', '八', '九', '零'}\n",
    "# 阿拉伯数字的12345列表\n",
    "en_list = {'1', '2', '3', '4', '5', '6', '7', '8', '9', '0'}\n",
    "# 英文数字的列表\n",
    "en_list = {'one', 'two', 'three', 'four', 'five', 'six', 'seven', 'eight', 'nine', 'zero'}\n",
    "\n",
    "# 对应词向量都存入到列表中\n",
    "cn_vectors = []  #中文的词向量列表\n",
    "en_vectors = []  #英文的词向量列表\n",
    "for w in cn_list:\n",
    "    cn_vectors.append(word_vectors[w])\n",
    "for w in en_list:\n",
    "    en_vectors.append(word_vectors_en[w])\n",
    "\n",
    "# 将这些词向量统一转化为矩阵\n",
    "cn_vectors = np.array(cn_vectors)\n",
    "en_vectors = np.array(en_vectors)\n",
    "print(cn_vectors.size, en_vectors.size)   #中文词向量200dimensions, 英文词向量100d"
   ]
  },
  {
   "cell_type": "code",
   "execution_count": 7,
   "metadata": {},
   "outputs": [
    {
     "data": {
      "image/png": "[encoded data removed]",
      "text/plain": [
       "<matplotlib.figure.Figure at 0x7fbaf1d229e8>"
      ]
     },
     "metadata": {},
     "output_type": "display_data"
    }
   ],
   "source": [
    "# 降维实现可视化\n",
    "X_reduced = PCA(n_components=2).fit_transform(cn_vectors)\n",
    "Y_reduced = PCA(n_components = 2).fit_transform(en_vectors)\n",
    "\n",
    "# 绘制所有单词向量的二维空间投影\n",
    "f, (ax1, ax2) = plt.subplots(1, 2, figsize = (10, 8))\n",
    "ax1.plot(X_reduced[:, 0], X_reduced[:, 1], 'o')\n",
    "ax2.plot(Y_reduced[:, 0], Y_reduced[:, 1], 'o')\n",
    "zhfont1 = matplotlib.font_manager.FontProperties(fname='/usr/share/fonts/Chinese/方正蓝屏死机简体.ttf', size=16)\n",
    "for i, w in enumerate(cn_list):\n",
    "    ax1.text(X_reduced[i, 0], X_reduced[i, 1], w, fontproperties = zhfont1, alpha = 1)\n",
    "for i, w in enumerate(en_list):\n",
    "    ax2.text(Y_reduced[i, 0], Y_reduced[i, 1], w, alpha = 1)"
   ]
  },
  {
   "cell_type": "markdown",
   "metadata": {},
   "source": [
    "### 结论：可以看出，中文的一、二、等数字彼此之间的关系与英文的数字彼此之间的关系很类似"
   ]
  },
  {
   "cell_type": "markdown",
   "metadata": {},
   "source": [
    "## 第三步：训练一个神经网络，输入一个英文单词的词向量，输出一个中文的词向量，并翻译为中文"
   ]
  },
  {
   "cell_type": "markdown",
   "metadata": {},
   "source": [
    "首先，读入一个已经建立好的词典（dictionary.txt）。本词典是老师调用百度翻译的API，自动将一篇英文小说中的词汇逐个翻译为中文而得来的\n",
    "\n",
    "我们一个个地载入词典，并查找对应的中文词向量，如果找得到，则放入original_words中，做为正式的训练集"
   ]
  },
  {
   "cell_type": "code",
   "execution_count": 8,
   "metadata": {},
   "outputs": [
    {
     "name": "stdout",
     "output_type": "stream",
     "text": [
      "4962\n"
     ]
    }
   ],
   "source": [
    "original_words = []\n",
    "with open('dictionary.txt', 'r') as f:\n",
    "    dataset = []\n",
    "    for line in f:\n",
    "        itm = line.split('\\t')\n",
    "        eng = itm[0]\n",
    "        chn = itm[1].strip()\n",
    "        if eng in word_vectors_en and chn in word_vectors:\n",
    "            data = word_vectors_en[eng]\n",
    "            target = word_vectors[chn]\n",
    "            # 将中英文词对做成数据集\n",
    "            dataset.append([data, target])\n",
    "            original_words.append([eng, chn])\n",
    "print(len(dataset)) # 共有4962个单词做为总的数据集合"
   ]
  },
  {
   "cell_type": "code",
   "execution_count": 42,
   "metadata": {
    "collapsed": true
   },
   "outputs": [],
   "source": [
    "# 建立训练集、测试集和校验集\n",
    "# 训练集用来训练神经网络，更改网络的参数；校验集用来判断网络模型是否过拟合：当校验集的损失数值超过训练集的时候，即为过拟合\n",
    "# 测试集用来检验模型的好坏\n",
    "indx = np.random.permutation(range(len(dataset)))   #打乱原来的顺序，但dataset和original_words仍然是对应的\n",
    "dataset = [dataset[i] for i in indx]\n",
    "original_words = [original_words[i] for i in indx]\n",
    "train_size = 500\n",
    "train_data = dataset[train_size:]\n",
    "valid_data = dataset[train_size // 2 : train_size]\n",
    "test_data = dataset[: train_size // 2]\n",
    "test_words = original_words[: train_size // 2]\n"
   ]
  },
  {
   "cell_type": "code",
   "execution_count": 58,
   "metadata": {
    "scrolled": true
   },
   "outputs": [
    {
     "name": "stdout",
     "output_type": "stream",
     "text": [
      "0轮，训练Loss: 8.32, 校验Loss: 7.64\n",
      "1轮，训练Loss: 7.66, 校验Loss: 7.32\n",
      "2轮，训练Loss: 7.39, 校验Loss: 7.17\n",
      "3轮，训练Loss: 7.23, 校验Loss: 7.07\n",
      "4轮，训练Loss: 7.12, 校验Loss: 7.01\n",
      "5轮，训练Loss: 7.04, 校验Loss: 6.96\n",
      "6轮，训练Loss: 6.98, 校验Loss: 6.93\n",
      "7轮，训练Loss: 6.93, 校验Loss: 6.90\n",
      "8轮，训练Loss: 6.89, 校验Loss: 6.88\n",
      "9轮，训练Loss: 6.85, 校验Loss: 6.86\n",
      "10轮，训练Loss: 6.82, 校验Loss: 6.84\n",
      "11轮，训练Loss: 6.79, 校验Loss: 6.83\n",
      "12轮，训练Loss: 6.77, 校验Loss: 6.82\n",
      "13轮，训练Loss: 6.75, 校验Loss: 6.81\n",
      "14轮，训练Loss: 6.73, 校验Loss: 6.80\n",
      "15轮，训练Loss: 6.71, 校验Loss: 6.79\n",
      "16轮，训练Loss: 6.69, 校验Loss: 6.79\n",
      "17轮，训练Loss: 6.68, 校验Loss: 6.78\n",
      "18轮，训练Loss: 6.66, 校验Loss: 6.78\n",
      "19轮，训练Loss: 6.65, 校验Loss: 6.78\n",
      "20轮，训练Loss: 6.64, 校验Loss: 6.77\n",
      "21轮，训练Loss: 6.62, 校验Loss: 6.77\n",
      "22轮，训练Loss: 6.61, 校验Loss: 6.77\n",
      "23轮，训练Loss: 6.60, 校验Loss: 6.76\n",
      "24轮，训练Loss: 6.59, 校验Loss: 6.76\n",
      "25轮，训练Loss: 6.58, 校验Loss: 6.76\n",
      "26轮，训练Loss: 6.57, 校验Loss: 6.76\n",
      "27轮，训练Loss: 6.57, 校验Loss: 6.76\n",
      "28轮，训练Loss: 6.56, 校验Loss: 6.76\n",
      "29轮，训练Loss: 6.55, 校验Loss: 6.76\n",
      "30轮，训练Loss: 6.54, 校验Loss: 6.76\n",
      "31轮，训练Loss: 6.54, 校验Loss: 6.76\n",
      "32轮，训练Loss: 6.53, 校验Loss: 6.76\n",
      "33轮，训练Loss: 6.52, 校验Loss: 6.76\n",
      "34轮，训练Loss: 6.52, 校验Loss: 6.76\n",
      "35轮，训练Loss: 6.51, 校验Loss: 6.76\n",
      "36轮，训练Loss: 6.50, 校验Loss: 6.76\n",
      "37轮，训练Loss: 6.50, 校验Loss: 6.76\n",
      "38轮，训练Loss: 6.49, 校验Loss: 6.76\n",
      "39轮，训练Loss: 6.49, 校验Loss: 6.76\n",
      "40轮，训练Loss: 6.48, 校验Loss: 6.76\n",
      "41轮，训练Loss: 6.48, 校验Loss: 6.76\n",
      "42轮，训练Loss: 6.47, 校验Loss: 6.76\n",
      "43轮，训练Loss: 6.47, 校验Loss: 6.76\n",
      "44轮，训练Loss: 6.47, 校验Loss: 6.76\n",
      "45轮，训练Loss: 6.46, 校验Loss: 6.76\n",
      "46轮，训练Loss: 6.46, 校验Loss: 6.77\n",
      "47轮，训练Loss: 6.45, 校验Loss: 6.77\n",
      "48轮，训练Loss: 6.45, 校验Loss: 6.77\n",
      "49轮，训练Loss: 6.45, 校验Loss: 6.77\n",
      "50轮，训练Loss: 6.44, 校验Loss: 6.77\n",
      "51轮，训练Loss: 6.44, 校验Loss: 6.77\n",
      "52轮，训练Loss: 6.44, 校验Loss: 6.77\n",
      "53轮，训练Loss: 6.43, 校验Loss: 6.77\n",
      "54轮，训练Loss: 6.43, 校验Loss: 6.77\n",
      "55轮，训练Loss: 6.43, 校验Loss: 6.78\n",
      "56轮，训练Loss: 6.43, 校验Loss: 6.78\n",
      "57轮，训练Loss: 6.42, 校验Loss: 6.78\n",
      "58轮，训练Loss: 6.42, 校验Loss: 6.78\n",
      "59轮，训练Loss: 6.42, 校验Loss: 6.78\n",
      "60轮，训练Loss: 6.41, 校验Loss: 6.78\n",
      "61轮，训练Loss: 6.41, 校验Loss: 6.78\n",
      "62轮，训练Loss: 6.41, 校验Loss: 6.78\n",
      "63轮，训练Loss: 6.41, 校验Loss: 6.79\n",
      "64轮，训练Loss: 6.40, 校验Loss: 6.79\n",
      "65轮，训练Loss: 6.40, 校验Loss: 6.79\n",
      "66轮，训练Loss: 6.40, 校验Loss: 6.79\n",
      "67轮，训练Loss: 6.40, 校验Loss: 6.79\n",
      "68轮，训练Loss: 6.40, 校验Loss: 6.79\n",
      "69轮，训练Loss: 6.39, 校验Loss: 6.79\n",
      "70轮，训练Loss: 6.39, 校验Loss: 6.80\n",
      "71轮，训练Loss: 6.39, 校验Loss: 6.80\n",
      "72轮，训练Loss: 6.39, 校验Loss: 6.80\n",
      "73轮，训练Loss: 6.39, 校验Loss: 6.80\n",
      "74轮，训练Loss: 6.38, 校验Loss: 6.80\n",
      "75轮，训练Loss: 6.38, 校验Loss: 6.80\n",
      "76轮，训练Loss: 6.38, 校验Loss: 6.80\n",
      "77轮，训练Loss: 6.38, 校验Loss: 6.80\n",
      "78轮，训练Loss: 6.38, 校验Loss: 6.81\n",
      "79轮，训练Loss: 6.37, 校验Loss: 6.81\n"
     ]
    }
   ],
   "source": [
    "# 开始训练一个多层神经网络，将一个100维度的英文向量映射为200维度的中文词向量，隐含层节点为30\n",
    "\n",
    "input_size = 100\n",
    "output_size = 200\n",
    "hidden_size = 80\n",
    "\n",
    "# 新建一个神经网络，包含一个隐含层\n",
    "model = nn.Sequential(nn.Linear(input_size, hidden_size),\n",
    "                      nn.LeakyReLU(),\n",
    "                      nn.Linear(hidden_size, output_size)\n",
    "                     )\n",
    "\n",
    "# 构造损失函数\n",
    "criterion = torch.nn.MSELoss() \n",
    "\n",
    "# 构造优化器\n",
    "optimizer = torch.optim.Adam(model.parameters(), lr = 0.0002)\n",
    "\n",
    "# 总的循环周期\n",
    "num_epoch = 80\n",
    "\n",
    "\n",
    "#开始训练500次，每次对所有的数据都做循环\n",
    "results = []\n",
    "for epoch in range(num_epoch):\n",
    "    train_loss = []\n",
    "    for data in train_data:\n",
    "        # 读入数据\n",
    "        x = Variable(torch.FloatTensor(data[0])).unsqueeze(0)\n",
    "        y = Variable(torch.FloatTensor(data[1])).unsqueeze(0)\n",
    "        # 模型预测\n",
    "        output = model(x)\n",
    "        \n",
    "        # 反向传播算法训练\n",
    "        optimizer.zero_grad()\n",
    "        loss = criterion(output, y)\n",
    "        train_loss.append(loss.data.numpy()[0])\n",
    "        loss.backward()\n",
    "        optimizer.step()\n",
    "    # 在校验集上测试一下效果\n",
    "    valid_loss = []\n",
    "    for data in valid_data:\n",
    "        x = Variable(torch.FloatTensor(data[0])).unsqueeze(0)\n",
    "        y = Variable(torch.FloatTensor(data[1])).unsqueeze(0)\n",
    "        output = model(x)\n",
    "        loss = criterion(output, y)\n",
    "        valid_loss.append(loss.data.numpy()[0])\n",
    "    results.append([np.mean(train_loss), np.mean(valid_loss)])\n",
    "    print('{}轮，训练Loss: {:.2f}, 校验Loss: {:.2f}'.format(epoch, np.mean(train_loss), np.mean(valid_loss)))\n"
   ]
  },
  {
   "cell_type": "code",
   "execution_count": 59,
   "metadata": {
    "scrolled": true
   },
   "outputs": [
    {
     "data": {
      "text/plain": [
       "<matplotlib.legend.Legend at 0x7fbae3f10da0>"
      ]
     },
     "execution_count": 59,
     "metadata": {},
     "output_type": "execute_result"
    },
    {
     "data": {
      "image/png": "[encoded data removed]",
      "text/plain": [
       "<matplotlib.figure.Figure at 0x7fbae3f7a908>"
      ]
     },
     "metadata": {},
     "output_type": "display_data"
    }
   ],
   "source": [
    "# 绘制图形\n",
    "a = [i[0] for i in results]\n",
    "b = [i[1] for i in results]\n",
    "plt.plot(a, 'o', label = 'Training Loss')\n",
    "plt.plot(b, 's', label = 'Validation Loss')\n",
    "plt.xlabel('Epoch')\n",
    "plt.ylabel('Loss Function')\n",
    "plt.legend()"
   ]
  },
  {
   "cell_type": "code",
   "execution_count": 60,
   "metadata": {},
   "outputs": [
    {
     "name": "stdout",
     "output_type": "stream",
     "text": [
      "精确匹配率：0.18\n",
      "一字匹配率：0.29\n",
      "[['针织', '围巾'], ['高速公路', '公路'], ['替代', '路径'], ['中', '10'], ['披萨', '叉子'], ['狗', '狗'], ['喜剧', '电影'], ['愿景', '梦境'], ['智能', '科学'], ['距离', '装卸'], ['衣柜', '服装'], ['打扰', '害怕'], ['可爱', '可爱'], ['小时', '小时'], ['危害', '后果'], ['房源', '查询'], ['呆', '休息'], ['出生', '患病'], ['能力', '能力'], ['腾跃', '蹦跳'], ['选择', '选定'], ['内', '相互影响'], ['吃', '吃'], ['平静', '紧张'], ['毛巾', '毛巾'], ['预期', '预计'], ['流浪', '猴子'], ['唷', '啊'], ['比较', '数值'], ['学士', '科学研究'], ['也许', '我'], ['劳动', '政府部门'], ['合理', '关键是'], ['完全', '完全'], ['菜', '食材'], ['雪茄', '瓶'], ['漂亮', '漂亮'], ['往往', '所以'], ['匆匆', '挪动'], ['提高', '提高'], ['爬虫', '喙'], ['39', '15'], ['邮件', '短信'], ['论文', '论文'], ['细节', '具体'], ['好友', '尼克'], ['识别', '辨识'], ['停', '车子'], ['幸运', '我'], ['困惑', '不解'], ['吞没', '引燃'], ['士兵', '士兵'], ['贝雷帽', '迷彩'], ['默默', '哭泣'], ['金字塔', '洞穴'], ['容易', '可以'], ['伪足', '卷曲'], ['调整', '调整'], ['承认', '承认'], ['开放', '开启'], ['收到', '接收'], ['生长', '增多'], ['立体', '音箱'], ['框架', '框架'], ['工程', '技术'], ['迅速', '有力'], ['暂停', '停顿'], ['其实', '所以'], ['罐', '玻璃瓶'], ['直', '拧'], ['抨击', '大骂'], ['希望', '肯定'], ['在', '洞口'], ['达到', '达到'], ['痛打', '摧毁'], ['里根', '承认'], ['将', '需要'], ['惊愕', '不悦'], ['潺潺', '声响'], ['激烈', '压抑'], ['沟', '沟'], ['头', '身子'], ['整个', '整个'], ['包裹', '夹'], ['秃', '白毛'], ['代', '人类'], ['握紧', '使劲'], ['相反', '否定'], ['辉煌', '美感'], ['同意', '同意'], ['生活', '生活'], ['星', '巨星'], ['隐藏', '藏匿'], ['剂', '黑客'], ['发作', '短篇'], ['树桩', '勾'], ['人渣', '虫子'], ['铁', '加州'], ['管理', '政府'], ['借', '付钱'], ['当', '因为'], ['约翰', '约翰'], ['面', '病变'], ['下面', '平均'], ['怄气', '生气'], ['食品', '水果'], ['上升', '下降'], ['游戏', '比赛'], ['侮辱', '侮辱'], ['以', '去'], ['渠道', '信号源'], ['是', '所以'], ['抱', '抚摸'], ['后悔', '怀疑'], ['寺', '石'], ['李嘉图', '司法部长'], ['相机', '摄像机'], ['儿童', '宝贝'], ['伊利诺斯', '州立大学'], ['聪明', '娴熟'], ['支付', '付给'], ['美味', '美味'], ['肃然起敬', '惊恐'], ['银屑病', '面部'], ['作响', '站立'], ['路障', '铁丝网'], ['板', '实心'], ['坐立不安', '大叫'], ['摇曳', '摇动'], ['旋钮', '脊'], ['汉尼拔', '男爵'], ['褪色', '仿佛'], ['坐', '坐下'], ['大', '啊'], ['旅行', '旅行'], ['扔', '伸手'], ['万亿', '%'], ['数据库', '数据库'], ['获得', '提交'], ['旋转', '飞起'], ['罢工', '袭击'], ['知道', '想'], ['问候', '问候'], ['应该', '或者'], ['凳', '夹板'], ['瀑布', '山下'], ['食欲', '刺激'], ['同情', '同情'], ['扩展', '重新启动'], ['核弹', '铁桶'], ['粗鲁', '生气'], ['成功', '掌权'], ['土地', '生态'], ['惊愕', '惊愕'], ['约', '谈论'], ['飞', '飞过'], ['阶段', '舞台'], ['介绍', '通过'], ['地面', '地面'], ['仓促', '无可奈何'], ['旁路', '复位'], ['腐蚀', '腐蚀'], ['空调', '温控'], ['舱口', '洞口'], ['苏格兰', '荷兰'], ['猛拉', '打断'], ['主机', '互动'], ['夹克', '外套'], ['嚎啕大哭', '大叫'], ['罗马人', '罗马人'], ['两', '接上'], ['哇', '啊'], ['绘制', '设置'], ['运行', '绕圈'], ['怀疑', '怀疑'], ['触角', '棘'], ['提供', '提供'], ['以上', '标高'], ['想', '知道'], ['热忱', '感动'], ['适合', '搭配'], ['圆形', '锯齿'], ['复制', '拷贝'], ['哽咽', '惊恐'], ['空白', '本子'], ['检查', '检查'], ['抽噎', '颤抖'], ['进行', '协商'], ['说', '告知'], ['细腻', '柔软'], ['到处', '好像'], ['我们', '所以'], ['也许', '因为'], ['甜蜜', '味道'], ['打', '打球'], ['看到', '看到'], ['奇才', '神射手'], ['前', '或者'], ['尖叫', '大叫'], ['食用', '菌类'], ['僵硬', '复位'], ['训练', '经验丰富'], ['传染', '恐惧'], ['漠不关心', '怀疑'], ['1991', '2001'], ['是', '火枪'], ['任性', '打断'], ['植被', '植被'], ['给', '送给'], ['生产', '生产'], ['樱桃', '蓝莓'], ['断言', '反驳'], ['故障', '不对'], ['来', '我们'], ['维特', '订正'], ['准备', '安排'], ['保持', '放'], ['回避', '心虚'], ['偷看', '看见'], ['似乎', '似乎'], ['经历', '出现'], ['尾巴', '爪子'], ['调情', '假装'], ['接受', '同意'], ['珍贵', '珍贵'], ['雕像', '雕像'], ['呼吸', '疼痛'], ['持有人', '拥有者'], ['配音', '名为'], ['好', '好'], ['放置', '放置'], ['挥舞', '挥舞'], ['时刻', '一刻'], ['容易', '需要'], ['反对', '说'], ['也', '比如'], ['设施', '设备'], ['观众', '观众'], ['打扰', '知道'], ['橙', '紫色'], ['陪同', '送来'], ['第', '编撰'], ['失去', '失去'], ['醒来', '苏醒'], ['最', '认真'], ['密西西比', '河口'], ['票', '刷卡'], ['打印', '网页'], ['主要', '地区性'], ['躺', '沟壑']]\n"
     ]
    }
   ],
   "source": [
    "# 在测试集上验证准确度\n",
    "# 检验标准有两个：一个是直接用预测的词和标准答案做全词匹配；另一个是做单字的匹配\n",
    "exact_same = 0  #全词匹配数量\n",
    "one_same = 0 #单字匹配数量\n",
    "results = []\n",
    "for i, data in enumerate(test_data):\n",
    "    x = Variable(torch.FloatTensor(data[0])).unsqueeze(0)\n",
    "    # 给出模型的输出\n",
    "    output = model(x)\n",
    "    output = output.squeeze().data.numpy()\n",
    "    # 从中文词向量中找到与输出向量最相似的向量\n",
    "    most_similar = word_vectors.wv.similar_by_vector(output, 1)\n",
    "    # 将标准答案中的词与最相似的向量所对应的词打印出来\n",
    "    results.append([original_words[i][1], most_similar[0][0]])\n",
    "    \n",
    "    # 全词匹配\n",
    "    if original_words[i][1] == most_similar[0][0]:\n",
    "        exact_same += 1\n",
    "    # 某一个字匹配\n",
    "    if list(set(list(original_words[i][1])) & set(list(most_similar[0][0]))) != []:\n",
    "        one_same += 1\n",
    "    \n",
    "print(\"精确匹配率：{:.2f}\".format(1.0 * exact_same / len(test_data)))\n",
    "print('一字匹配率：{:.2f}'.format(1.0 * one_same / len(test_data)))\n",
    "print(results)"
   ]
  },
  {
   "cell_type": "code",
   "execution_count": null,
   "metadata": {
    "collapsed": true
   },
   "outputs": [],
   "source": []
  }
 ],
 "metadata": {
  "kernelspec": {
   "display_name": "Python 3",
   "language": "python",
   "name": "python3"
  },
  "language_info": {
   "codemirror_mode": {
    "name": "ipython",
    "version": 3
   },
   "file_extension": ".py",
   "mimetype": "text/x-python",
   "name": "python",
   "nbconvert_exporter": "python",
   "pygments_lexer": "ipython3",
   "version": "3.6.3"
  }
 },
 "nbformat": 4,
 "nbformat_minor": 2
}
