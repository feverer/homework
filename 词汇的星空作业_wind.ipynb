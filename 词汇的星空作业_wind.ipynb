{
 "cells": [
  {
   "cell_type": "markdown",
   "metadata": {},
   "source": [
    "# 基于词向量的英汉翻译——“火炬上的深度学习\"下第一次作业\n",
    "\n",
    "在这个作业中，你需要半独立地完成一个英文到中文的单词翻译器\n",
    "\n",
    "本文件是集智AI学园http://campus.swarma.org 出品的“火炬上的深度学习”第VI课的配套源代码"
   ]
  },
  {
   "cell_type": "code",
   "execution_count": 1,
   "metadata": {
    "collapsed": true
   },
   "outputs": [],
   "source": [
    "# 加载必要的程序包\n",
    "# PyTorch的程序包\n",
    "import torch\n",
    "from torch.autograd import Variable\n",
    "import torch.nn as nn\n",
    "import torch.nn.functional as F\n",
    "import torch.optim as optim\n",
    "\n",
    "# 数值运算和绘图的程序包\n",
    "import numpy as np\n",
    "import matplotlib.pyplot as plt\n",
    "import matplotlib\n",
    "\n",
    "\n",
    "# 加载机器学习的软件包，主要为了词向量的二维可视化\n",
    "from sklearn.decomposition import PCA\n",
    "\n",
    "#加载Word2Vec的软件包\n",
    "import gensim as gensim\n",
    "from gensim.models import Word2Vec\n",
    "from gensim.models.keyedvectors import KeyedVectors\n",
    "from gensim.models.word2vec import LineSentence\n",
    "\n",
    "#加载正则表达式处理的包\n",
    "import re\n",
    "\n",
    "#在Notebook界面能够直接显示图形\n",
    "%matplotlib inline"
   ]
  },
  {
   "cell_type": "markdown",
   "metadata": {},
   "source": [
    "## 第一步：加载词向量\n",
    "\n",
    "首先，让我们加载别人已经在大型语料库上训练好的词向量"
   ]
  },
  {
   "cell_type": "code",
   "execution_count": 10,
   "metadata": {},
   "outputs": [
    {
     "data": {
      "text/plain": [
       "1366130"
      ]
     },
     "execution_count": 10,
     "metadata": {},
     "output_type": "execute_result"
    }
   ],
   "source": [
    "# 加载中文词向量，下载地址为：链接：http://pan.baidu.com/s/1gePQAun 密码：kvtg\n",
    "# 该中文词向量库是由尹相志提供，训练语料来源为：微博、人民日报、上海热线、汽车之家等，包含1366130个词向量\n",
    "word_vectors = KeyedVectors.load_word2vec_format('vectors.bin', binary=True, unicode_errors='ignore')\n",
    "len(word_vectors.vocab)"
   ]
  },
  {
   "cell_type": "code",
   "execution_count": 6,
   "metadata": {},
   "outputs": [
    {
     "name": "stdout",
     "output_type": "stream",
     "text": [
      "400000\n"
     ]
    }
   ],
   "source": [
    "# 加载英文的词向量，下载地址为：http://nlp.stanford.edu/data/glove.6B.zip，解压后将glove.6B.100d.txt文件拷贝到与本notebook\n",
    "# 文件一致的文件夹下面。\n",
    "f = open('glove.6B.100d.txt', 'r')\n",
    "i = 1\n",
    "\n",
    "# 将英文的词向量都存入如下的字典中  该字典以每个word作为key，相应的词向量作为value，共40w个词\n",
    "word_vectors_en = {}\n",
    "with open('glove.6B.100d.txt') as f:\n",
    "    for line in f:\n",
    "        numbers = line.split()\n",
    "        word = numbers[0]\n",
    "        vectors = np.array([float(i) for i in numbers[1 : ]])\n",
    "        word_vectors_en[word] = vectors\n",
    "#        i += 1        #没有用到变量i\n",
    "print(len(word_vectors_en))"
   ]
  },
  {
   "cell_type": "markdown",
   "metadata": {},
   "source": [
    "## 第二步：可视化同一组意思词在两种不同语言的词向量中的相互位置关系"
   ]
  },
  {
   "cell_type": "code",
   "execution_count": 8,
   "metadata": {},
   "outputs": [
    {
     "name": "stdout",
     "output_type": "stream",
     "text": [
      "2000 1000\n"
     ]
    }
   ],
   "source": [
    "# 中文的一二三四五列表\n",
    "cn_list = {'一', '二', '三', '四', '五', '六', '七', '八', '九', '零'}\n",
    "# 阿拉伯数字的12345列表\n",
    "en_list = {'1', '2', '3', '4', '5', '6', '7', '8', '9', '0'}\n",
    "# 英文数字的列表\n",
    "en_list = {'one', 'two', 'three', 'four', 'five', 'six', 'seven', 'eight', 'nine', 'zero'}\n",
    "\n",
    "# 对应词向量都存入到列表中\n",
    "cn_vectors = []  #中文的词向量列表\n",
    "en_vectors = []  #英文的词向量列表\n",
    "for w in cn_list:\n",
    "    cn_vectors.append(word_vectors[w])\n",
    "for w in en_list:\n",
    "    en_vectors.append(word_vectors_en[w])\n",
    "\n",
    "# 将这些词向量统一转化为矩阵\n",
    "cn_vectors = np.array(cn_vectors)\n",
    "en_vectors = np.array(en_vectors)\n",
    "print(cn_vectors.size, en_vectors.size)   #中文词向量200dimensions, 英文词向量100d"
   ]
  },
  {
   "cell_type": "code",
   "execution_count": 9,
   "metadata": {},
   "outputs": [
    {
     "data": {
      "image/png": "[encoded data removed]",
      "text/plain": [
       "<matplotlib.figure.Figure at 0x7fba4e34a470>"
      ]
     },
     "metadata": {},
     "output_type": "display_data"
    }
   ],
   "source": [
    "# 降维实现可视化\n",
    "X_reduced = PCA(n_components=2).fit_transform(cn_vectors)\n",
    "Y_reduced = PCA(n_components = 2).fit_transform(en_vectors)\n",
    "\n",
    "# 绘制所有单词向量的二维空间投影\n",
    "f, (ax1, ax2) = plt.subplots(1, 2, figsize = (10, 8))\n",
    "ax1.plot(X_reduced[:, 0], X_reduced[:, 1], 'o')\n",
    "ax2.plot(Y_reduced[:, 0], Y_reduced[:, 1], 'o')\n",
    "zhfont1 = matplotlib.font_manager.FontProperties(fname='/usr/share/fonts/Chinese/方正蓝屏死机简体.ttf', size=16)\n",
    "for i, w in enumerate(cn_list):\n",
    "    ax1.text(X_reduced[i, 0], X_reduced[i, 1], w, fontproperties = zhfont1, alpha = 1)\n",
    "for i, w in enumerate(en_list):\n",
    "    ax2.text(Y_reduced[i, 0], Y_reduced[i, 1], w, alpha = 1)"
   ]
  },
  {
   "cell_type": "markdown",
   "metadata": {},
   "source": [
    "### 结论：可以看出，中文的一、二、等数字彼此之间的关系与英文的数字彼此之间的关系很类似"
   ]
  },
  {
   "cell_type": "markdown",
   "metadata": {},
   "source": [
    "## 第三步：训练一个神经网络，输入一个英文单词的词向量，输出一个中文的词向量，并翻译为中文"
   ]
  },
  {
   "cell_type": "markdown",
   "metadata": {},
   "source": [
    "首先，读入一个已经建立好的词典（dictionary.txt）。本词典是老师调用百度翻译的API，自动将一篇英文小说中的词汇逐个翻译为中文而得来的\n",
    "\n",
    "我们一个个地载入词典，并查找对应的中文词向量，如果找得到，则放入original_words中，做为正式的训练集"
   ]
  },
  {
   "cell_type": "code",
   "execution_count": 11,
   "metadata": {},
   "outputs": [
    {
     "name": "stdout",
     "output_type": "stream",
     "text": [
      "4962\n"
     ]
    }
   ],
   "source": [
    "original_words = []\n",
    "with open('dictionary.txt', 'r') as f:\n",
    "    dataset = []\n",
    "    for line in f:\n",
    "        itm = line.split('\\t')\n",
    "        eng = itm[0]\n",
    "        chn = itm[1].strip()\n",
    "        if eng in word_vectors_en and chn in word_vectors:\n",
    "            data = word_vectors_en[eng]\n",
    "            target = word_vectors[chn]\n",
    "            # 将中英文词对做成数据集\n",
    "            dataset.append([data, target])\n",
    "            original_words.append([eng, chn])\n",
    "print(len(dataset)) # 共有4962个单词做为总的数据集合"
   ]
  },
  {
   "cell_type": "code",
   "execution_count": 12,
   "metadata": {
    "collapsed": true
   },
   "outputs": [],
   "source": [
    "# 建立训练集、测试集和校验集\n",
    "# 训练集用来训练神经网络，更改网络的参数；校验集用来判断网络模型是否过拟合：当校验集的损失数值超过训练集的时候，即为过拟合\n",
    "# 测试集用来检验模型的好坏\n",
    "indx = np.random.permutation(range(len(dataset)))   #打乱原来的顺序，但dataset和original_words仍然是对应的\n",
    "dataset = [dataset[i] for i in indx]\n",
    "original_words = [original_words[i] for i in indx]\n",
    "train_size = 500\n",
    "train_data = dataset[train_size:]\n",
    "valid_data = dataset[train_size // 2 : train_size]\n",
    "test_data = dataset[: train_size // 2]\n",
    "test_words = original_words[: train_size // 2]\n"
   ]
  },
  {
   "cell_type": "code",
   "execution_count": 17,
   "metadata": {
    "scrolled": true
   },
   "outputs": [
    {
     "name": "stdout",
     "output_type": "stream",
     "text": [
      "0轮，训练Loss: 8.73, 校验Loss: 8.92\n",
      "1轮，训练Loss: 8.30, 校验Loss: 8.60\n",
      "2轮，训练Loss: 8.05, 校验Loss: 8.40\n",
      "3轮，训练Loss: 7.90, 校验Loss: 8.28\n",
      "4轮，训练Loss: 7.80, 校验Loss: 8.18\n",
      "5轮，训练Loss: 7.72, 校验Loss: 8.11\n",
      "6轮，训练Loss: 7.65, 校验Loss: 8.04\n",
      "7轮，训练Loss: 7.59, 校验Loss: 7.99\n",
      "8轮，训练Loss: 7.54, 校验Loss: 7.95\n",
      "9轮，训练Loss: 7.50, 校验Loss: 7.91\n",
      "10轮，训练Loss: 7.46, 校验Loss: 7.87\n",
      "11轮，训练Loss: 7.42, 校验Loss: 7.84\n",
      "12轮，训练Loss: 7.39, 校验Loss: 7.81\n",
      "13轮，训练Loss: 7.37, 校验Loss: 7.78\n",
      "14轮，训练Loss: 7.34, 校验Loss: 7.76\n",
      "15轮，训练Loss: 7.32, 校验Loss: 7.74\n",
      "16轮，训练Loss: 7.30, 校验Loss: 7.72\n",
      "17轮，训练Loss: 7.28, 校验Loss: 7.70\n",
      "18轮，训练Loss: 7.26, 校验Loss: 7.69\n",
      "19轮，训练Loss: 7.25, 校验Loss: 7.67\n",
      "20轮，训练Loss: 7.23, 校验Loss: 7.66\n",
      "21轮，训练Loss: 7.22, 校验Loss: 7.64\n",
      "22轮，训练Loss: 7.20, 校验Loss: 7.63\n",
      "23轮，训练Loss: 7.19, 校验Loss: 7.62\n",
      "24轮，训练Loss: 7.18, 校验Loss: 7.61\n",
      "25轮，训练Loss: 7.17, 校验Loss: 7.60\n",
      "26轮，训练Loss: 7.16, 校验Loss: 7.59\n",
      "27轮，训练Loss: 7.15, 校验Loss: 7.58\n",
      "28轮，训练Loss: 7.14, 校验Loss: 7.58\n",
      "29轮，训练Loss: 7.13, 校验Loss: 7.57\n",
      "30轮，训练Loss: 7.13, 校验Loss: 7.56\n",
      "31轮，训练Loss: 7.12, 校验Loss: 7.56\n",
      "32轮，训练Loss: 7.11, 校验Loss: 7.55\n",
      "33轮，训练Loss: 7.11, 校验Loss: 7.55\n",
      "34轮，训练Loss: 7.10, 校验Loss: 7.54\n",
      "35轮，训练Loss: 7.09, 校验Loss: 7.54\n",
      "36轮，训练Loss: 7.09, 校验Loss: 7.54\n",
      "37轮，训练Loss: 7.08, 校验Loss: 7.53\n",
      "38轮，训练Loss: 7.08, 校验Loss: 7.53\n",
      "39轮，训练Loss: 7.07, 校验Loss: 7.52\n",
      "40轮，训练Loss: 7.07, 校验Loss: 7.52\n",
      "41轮，训练Loss: 7.07, 校验Loss: 7.52\n",
      "42轮，训练Loss: 7.06, 校验Loss: 7.52\n",
      "43轮，训练Loss: 7.06, 校验Loss: 7.51\n",
      "44轮，训练Loss: 7.06, 校验Loss: 7.51\n",
      "45轮，训练Loss: 7.05, 校验Loss: 7.51\n",
      "46轮，训练Loss: 7.05, 校验Loss: 7.50\n",
      "47轮，训练Loss: 7.05, 校验Loss: 7.50\n",
      "48轮，训练Loss: 7.04, 校验Loss: 7.50\n",
      "49轮，训练Loss: 7.04, 校验Loss: 7.50\n",
      "50轮，训练Loss: 7.04, 校验Loss: 7.50\n",
      "51轮，训练Loss: 7.03, 校验Loss: 7.49\n",
      "52轮，训练Loss: 7.03, 校验Loss: 7.49\n",
      "53轮，训练Loss: 7.03, 校验Loss: 7.49\n",
      "54轮，训练Loss: 7.03, 校验Loss: 7.49\n",
      "55轮，训练Loss: 7.03, 校验Loss: 7.49\n",
      "56轮，训练Loss: 7.02, 校验Loss: 7.49\n",
      "57轮，训练Loss: 7.02, 校验Loss: 7.48\n",
      "58轮，训练Loss: 7.02, 校验Loss: 7.48\n",
      "59轮，训练Loss: 7.02, 校验Loss: 7.48\n",
      "60轮，训练Loss: 7.02, 校验Loss: 7.48\n",
      "61轮，训练Loss: 7.01, 校验Loss: 7.48\n",
      "62轮，训练Loss: 7.01, 校验Loss: 7.48\n",
      "63轮，训练Loss: 7.01, 校验Loss: 7.48\n",
      "64轮，训练Loss: 7.01, 校验Loss: 7.48\n",
      "65轮，训练Loss: 7.01, 校验Loss: 7.48\n",
      "66轮，训练Loss: 7.01, 校验Loss: 7.47\n",
      "67轮，训练Loss: 7.00, 校验Loss: 7.47\n",
      "68轮，训练Loss: 7.00, 校验Loss: 7.47\n",
      "69轮，训练Loss: 7.00, 校验Loss: 7.47\n",
      "70轮，训练Loss: 7.00, 校验Loss: 7.47\n",
      "71轮，训练Loss: 7.00, 校验Loss: 7.47\n",
      "72轮，训练Loss: 7.00, 校验Loss: 7.47\n",
      "73轮，训练Loss: 7.00, 校验Loss: 7.47\n",
      "74轮，训练Loss: 7.00, 校验Loss: 7.47\n",
      "75轮，训练Loss: 6.99, 校验Loss: 7.47\n",
      "76轮，训练Loss: 6.99, 校验Loss: 7.47\n",
      "77轮，训练Loss: 6.99, 校验Loss: 7.47\n",
      "78轮，训练Loss: 6.99, 校验Loss: 7.46\n",
      "79轮，训练Loss: 6.99, 校验Loss: 7.46\n",
      "80轮，训练Loss: 6.99, 校验Loss: 7.46\n",
      "81轮，训练Loss: 6.99, 校验Loss: 7.46\n",
      "82轮，训练Loss: 6.99, 校验Loss: 7.46\n",
      "83轮，训练Loss: 6.99, 校验Loss: 7.46\n",
      "84轮，训练Loss: 6.99, 校验Loss: 7.46\n",
      "85轮，训练Loss: 6.98, 校验Loss: 7.46\n",
      "86轮，训练Loss: 6.98, 校验Loss: 7.46\n",
      "87轮，训练Loss: 6.98, 校验Loss: 7.46\n",
      "88轮，训练Loss: 6.98, 校验Loss: 7.46\n",
      "89轮，训练Loss: 6.98, 校验Loss: 7.46\n",
      "90轮，训练Loss: 6.98, 校验Loss: 7.46\n",
      "91轮，训练Loss: 6.98, 校验Loss: 7.46\n",
      "92轮，训练Loss: 6.98, 校验Loss: 7.46\n",
      "93轮，训练Loss: 6.98, 校验Loss: 7.46\n",
      "94轮，训练Loss: 6.98, 校验Loss: 7.46\n",
      "95轮，训练Loss: 6.98, 校验Loss: 7.46\n",
      "96轮，训练Loss: 6.98, 校验Loss: 7.46\n",
      "97轮，训练Loss: 6.97, 校验Loss: 7.46\n",
      "98轮，训练Loss: 6.97, 校验Loss: 7.46\n",
      "99轮，训练Loss: 6.97, 校验Loss: 7.46\n"
     ]
    }
   ],
   "source": [
    "# 开始训练一个多层神经网络，将一个100维度的英文向量映射为200维度的中文词向量，隐含层节点为30\n",
    "\n",
    "input_size = 100\n",
    "output_size = 200\n",
    "hidden_size = 30\n",
    "\n",
    "# 新建一个神经网络，包含一个隐含层\n",
    "model = nn.Sequential(nn.Linear(input_size, hidden_size),\n",
    "                      nn.Tanh(),\n",
    "                      nn.Linear(hidden_size, output_size)\n",
    "                     )\n",
    "\n",
    "# 构造损失函数\n",
    "criterion = torch.nn.MSELoss()\n",
    "\n",
    "# 构造优化器\n",
    "optimizer = torch.optim.Adam(model.parameters(), lr = 0.0001)\n",
    "\n",
    "# 总的循环周期\n",
    "num_epoch = 100\n",
    "\n",
    "\n",
    "#开始训练500次，每次对所有的数据都做循环\n",
    "results = []\n",
    "for epoch in range(num_epoch):\n",
    "    train_loss = []\n",
    "    for data in train_data:\n",
    "        # 读入数据\n",
    "        x = Variable(torch.FloatTensor(data[0])).unsqueeze(0)\n",
    "        y = Variable(torch.FloatTensor(data[1])).unsqueeze(0)\n",
    "        # 模型预测\n",
    "        output = model(x)\n",
    "        \n",
    "        # 反向传播算法训练\n",
    "        optimizer.zero_grad()\n",
    "        loss = criterion(output, y)\n",
    "        train_loss.append(loss.data.numpy()[0])\n",
    "        loss.backward()\n",
    "        optimizer.step()\n",
    "    # 在校验集上测试一下效果\n",
    "    valid_loss = []\n",
    "    for data in valid_data:\n",
    "        x = Variable(torch.FloatTensor(data[0])).unsqueeze(0)\n",
    "        y = Variable(torch.FloatTensor(data[1])).unsqueeze(0)\n",
    "        output = model(x)\n",
    "        loss = criterion(output, y)\n",
    "        valid_loss.append(loss.data.numpy()[0])\n",
    "    results.append([np.mean(train_loss), np.mean(valid_loss)])\n",
    "    print('{}轮，训练Loss: {:.2f}, 校验Loss: {:.2f}'.format(epoch, np.mean(train_loss), np.mean(valid_loss)))\n"
   ]
  },
  {
   "cell_type": "code",
   "execution_count": 18,
   "metadata": {},
   "outputs": [
    {
     "data": {
      "text/plain": [
       "<matplotlib.legend.Legend at 0x7fba6a47efd0>"
      ]
     },
     "execution_count": 18,
     "metadata": {},
     "output_type": "execute_result"
    },
    {
     "data": {
      "image/png": "[encoded data removed]",
      "text/plain": [
       "<matplotlib.figure.Figure at 0x7fba6ac12780>"
      ]
     },
     "metadata": {},
     "output_type": "display_data"
    }
   ],
   "source": [
    "# 绘制图形\n",
    "a = [i[0] for i in results]\n",
    "b = [i[1] for i in results]\n",
    "plt.plot(a, 'o', label = 'Training Loss')\n",
    "plt.plot(b, 's', label = 'Validation Loss')\n",
    "plt.xlabel('Epoch')\n",
    "plt.ylabel('Loss Function')\n",
    "plt.legend()"
   ]
  },
  {
   "cell_type": "code",
   "execution_count": 20,
   "metadata": {},
   "outputs": [
    {
     "name": "stdout",
     "output_type": "stream",
     "text": [
      "精确匹配率：0.10\n",
      "一字匹配率：0.22\n",
      "[['双打', '双人'], ['交感', '冷漠'], ['保持', '把'], ['甲', '手臂'], ['沉默', '激怒'], ['机器人', '仿生'], ['第', '表述'], ['女孩', '她'], ['星际', '粒子'], ['行星', '宇宙'], ['版', '合集'], ['密集', '细小'], ['响', '话音刚落'], ['皱眉', '颤抖'], ['表格', '文档'], ['提供', '储物柜'], ['成千上万', '毁坏'], ['标志', '贴纸'], ['更长', '所以'], ['移', '使得'], ['走廊', '区域'], ['锁', '开关'], ['挥手', '大喊'], ['会', '可能'], ['糖果', '零食'], ['116', '36'], ['直到', '等到'], ['沙漠', '沙漠'], ['无聊', '其实'], ['轿车', '城堡'], ['瓦尔多', '朱利安'], ['颜色', '色彩'], ['清洗', '消毒'], ['远程', '手机信号'], ['固体', '稳定性'], ['块', '底板'], ['扭曲', '扭曲'], ['嘲笑', '嘲讽'], ['表演者', '舞者'], ['田园', '多姿多彩'], ['痛打', '冲向'], ['严重', '严重'], ['认可', '认同'], ['主体', '表述'], ['杀', '杀死'], ['画', '揶揄'], ['多汁', '肉'], ['翻倍', '增加'], ['新鲜', '烤'], ['钉', '钉'], ['好奇', '好奇'], ['推翻', '摧毁'], ['落', '滑落'], ['自己', '想'], ['哭泣', '呻吟'], ['疼痛', '疼'], ['炒', '然后'], ['鞭打', '灌入'], ['杆', '挡板'], ['军队', '军队'], ['美好', '咧'], ['检查', '核对'], ['玻璃', '镜面'], ['网络', '无处不在'], ['加班', '剩下'], ['扩展', '铿锵有力'], ['应该', '所以'], ['妇女', '女性'], ['托盘', '托盘'], ['413', '42'], ['演员', '人物'], ['无情地', '反抗'], ['真理', '真理'], ['感到', '觉得'], ['大理石', '木制'], ['退', '撤退'], ['丝绸', '布料'], ['告诉', '说'], ['办公室', '设有'], ['包含', '标注'], ['士兵', '士兵'], ['拖着', '后背'], ['功勋', '天赋'], ['记录', '播放'], ['可信', '理解'], ['总', '100'], ['他们', '自己'], ['太阳', '云朵'], ['发现', '发现'], ['旋转', '转动'], ['握', '下压'], ['锋无力', '边沿'], ['足球', '橄榄球'], ['波', '冲击波'], ['孩子', '母亲'], ['电视', '控制器'], ['敲', '压住'], ['研究', '研究'], ['洋葱', '菠萝'], ['挖掘', '采矿'], ['粉碎', '杀死'], ['昆虫', '昆虫'], ['礼仪', '语言'], ['游客', '路过'], ['洗擦', '擦'], ['随时', '慌乱'], ['俄亥俄', '伍德'], ['排', '柱子'], ['诅咒', '诅咒'], ['挂', '边沿'], ['自动', '调用'], ['门环', '上端'], ['努力', '学习'], ['吸收', '膨胀'], ['擦', '裂开'], ['金属', '筒'], ['专长', '专业知识'], ['政府', '政府'], ['坠毁', '冲出'], ['是', '我'], ['女孩', '她'], ['瑞士', '澳大利亚'], ['可以', '所以'], ['谈话', '聊天'], ['死', '死去'], ['听', '我'], ['示意', '微笑'], ['坏', '因为'], ['雅', '啊'], ['去', '我'], ['片', '竹片'], ['实例', '术语'], ['哈达', '海滩'], ['问题', '表述'], ['任性', '打断'], ['希望', '希望'], ['保修', '补偿'], ['毛皮', '羽毛'], ['岩', '瀑布'], ['基本', '合理'], ['做', '真的'], ['供应', '有效'], ['错觉', '它'], ['派', '豆子'], ['抽头', '插入'], ['表示', '不悦'], ['福禄克', '可能'], ['大声疾呼', '咆哮'], ['受害者', '虐待'], ['蓬头垢面', '浓密'], ['蒙特雷', '塔斯马尼亚'], ['附', '挡板'], ['镜头', '莫名其妙'], ['服务员', '哭泣'], ['手腕', '手臂'], ['提到', '说'], ['灯', '圆盘'], ['报道', '调查'], ['意义', '理解'], ['易', '踱步'], ['全', '装上'], ['甜蜜', '味道'], ['承认', '我'], ['绞', '用力'], ['地', '我'], ['所有', '应该'], ['处', '也许'], ['周到', '真诚'], ['当然', '因为'], ['验证', '程序'], ['苏格兰', '诺曼'], ['轻松', '舒服'], ['删除', '移除'], ['犬', '触须'], ['由于', '导致'], ['知道', '想'], ['杜兰德', '布洛克'], ['实现', '努力'], ['后', '结束'], ['停止', '停下来'], ['污渍', '裂纹'], ['发票', '单据'], ['建议', '回答'], ['反驳', '说'], ['码头', '路旁'], ['伟大', '的'], ['使用', '原理'], ['看', '其实'], ['往往', '的'], ['小报', '莫名其妙'], ['时间', '时间'], ['辣妹', '鬼'], ['如释重负', '懊恼'], ['你好', '我'], ['发现', '头骨'], ['埃塞尔', '露西'], ['动画', '交互式'], ['战斗', '反抗'], ['都铎', '古典'], ['校验', '材料'], ['肠道', '身体'], ['掠过', '扭动'], ['核弹', '武器'], ['总统', '游说'], ['苦笑', '诧异'], ['帮助', '帮助'], ['喃喃自语', '我'], ['小丑', '怪物'], ['切斯特', '桥'], ['打哈欠', '惊恐'], ['人', '想'], ['但', '因为'], ['灾难', '自然灾害'], ['冲压', '特制'], ['退出', '关闭'], ['抱', '胳膊'], ['眼', '眼睛'], ['购物', '餐厅'], ['夏天', '傍晚'], ['凯撒', '拿破仑'], ['建筑', '建筑'], ['飞行', '操作员'], ['细腻', '细小'], ['符号', '符号'], ['东', '北边'], ['高', '硬度'], ['杯', '冰淇淋'], ['其实', '所以'], ['丛林', '丛林'], ['国', '繁荣'], ['嗯', '不要脸'], ['今晚', '开心'], ['漂亮', '漂亮'], ['笑', '我'], ['著名', '有名'], ['使用', '使用'], ['改写', '解释'], ['帕洛', '埃德菲尤尔'], ['洛可可', '风格'], ['跳', '飞奔'], ['喝', '喝'], ['我', '我'], ['喘着气', '大笑'], ['你好', '告诉他'], ['金', '芒'], ['任命', '聘请'], ['额定', '75'], ['习惯', '也'], ['叉', '头'], ['怀疑', '怀疑']]\n"
     ]
    }
   ],
   "source": [
    "# 在测试集上验证准确度\n",
    "# 检验标准有两个：一个是直接用预测的词和标准答案做全词匹配；另一个是做单字的匹配\n",
    "exact_same = 0  #全词匹配数量\n",
    "one_same = 0 #单字匹配数量\n",
    "results = []\n",
    "for i, data in enumerate(test_data):\n",
    "    x = Variable(torch.FloatTensor(data[0])).unsqueeze(0)\n",
    "    # 给出模型的输出\n",
    "    output = model(x)\n",
    "    output = output.squeeze().data.numpy()\n",
    "    # 从中文词向量中找到与输出向量最相似的向量\n",
    "    most_similar = word_vectors.wv.similar_by_vector(output, 1)\n",
    "    # 将标准答案中的词与最相似的向量所对应的词打印出来\n",
    "    results.append([original_words[i][1], most_similar[0][0]])\n",
    "    \n",
    "    # 全词匹配\n",
    "    if original_words[i][1] == most_similar[0][0]:\n",
    "        exact_same += 1\n",
    "    # 某一个字匹配\n",
    "    if list(set(list(original_words[i][1])) & set(list(most_similar[0][0]))) != []:\n",
    "        one_same += 1\n",
    "    \n",
    "print(\"精确匹配率：{:.2f}\".format(1.0 * exact_same / len(test_data)))\n",
    "print('一字匹配率：{:.2f}'.format(1.0 * one_same / len(test_data)))\n",
    "print(results)"
   ]
  },
  {
   "cell_type": "code",
   "execution_count": null,
   "metadata": {
    "collapsed": true
   },
   "outputs": [],
   "source": []
  }
 ],
 "metadata": {
  "kernelspec": {
   "display_name": "Python 3",
   "language": "python",
   "name": "python3"
  },
  "language_info": {
   "codemirror_mode": {
    "name": "ipython",
    "version": 3
   },
   "file_extension": ".py",
   "mimetype": "text/x-python",
   "name": "python",
   "nbconvert_exporter": "python",
   "pygments_lexer": "ipython3",
   "version": "3.6.3"
  }
 },
 "nbformat": 4,
 "nbformat_minor": 2
}
